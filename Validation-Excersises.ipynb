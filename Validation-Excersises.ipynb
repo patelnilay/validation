{
 "cells": [
  {
   "cell_type": "code",
   "execution_count": 1,
   "metadata": {},
   "outputs": [
    {
     "name": "stdout",
     "output_type": "stream",
     "text": [
      "---------MENU---------\n",
      "A) choice 1\n",
      "B) choice 2\n",
      "C) choice 3\n",
      "E)xit\n",
      "please enter your choicee\n",
      "you chose to exit... Bye!\n"
     ]
    }
   ],
   "source": [
    "VALIDCHOICES = \"ABCE\"\n",
    "\n",
    "def choiceA():\n",
    "    print(\"you chose option 1\")\n",
    "\n",
    "def choiceB():\n",
    "    print(\"you choise option 2\")\n",
    "\n",
    "def choiceD():\n",
    "    print(\"you chose option 3\")\n",
    "\n",
    "def choiceE():\n",
    "    print(\"you chose to exit... Bye!\")\n",
    "\n",
    "def menu():\n",
    "    print(\"---------MENU---------\")\n",
    "    print(\"A) choice 1\")\n",
    "    print(\"B) choice 2\")\n",
    "    print(\"C) choice 3\")\n",
    "    print(\"E)xit\")\n",
    "    choice = input(\"please enter your choice\").upper()\n",
    "    return choice\n",
    "\n",
    "valid = 0\n",
    "\n",
    "exit = 1\n",
    "\n",
    "while not valid or not exit:\n",
    "    userChoice=menu()\n",
    "    if userChoice not in VALIDCHOICES:\n",
    "        print(\"that is not a valid menu choice, try again\")\n",
    "    else:\n",
    "        valid = 1\n",
    "        \n",
    "        if userChoice == \"A\":\n",
    "            choiceA\n",
    "        elif userChoice == \"B\":\n",
    "            choiceB\n",
    "        elif userChoice == \"C\":\n",
    "            choiceC()\n",
    "        elif userChoice == \"E\":\n",
    "            choiceE()\n",
    "            exit = 1"
   ]
  },
  {
   "cell_type": "code",
   "execution_count": null,
   "metadata": {},
   "outputs": [],
   "source": [
    "print(\"welcome to my robust user validation\")\n",
    "\n",
    "valid = 0\n",
    "\n",
    "while not valid:\n",
    "    try:\n",
    "        age = int(input(\"please enter your age as a number between 14-99\"))\n",
    "        if age > 99 or age <14:\n",
    "             print(\"that was not in the valid range of 14-99, try again.\")\n",
    "        else:\n",
    "            valid = 1\n",
    "    except ValueError:\n",
    "        print(\"that was not a valid number\")"
   ]
  },
  {
   "cell_type": "code",
   "execution_count": 2,
   "metadata": {},
   "outputs": [
    {
     "name": "stdout",
     "output_type": "stream",
     "text": [
      "do you work full time or part time? f\n",
      "valid\n"
     ]
    }
   ],
   "source": [
    "def jobstatus():\n",
    "    valid = 0\n",
    "    while valid == 0:\n",
    "        job = input(\"do you work full time or part time? \").upper()\n",
    "        if job == \"F\" or job == \"P\":\n",
    "            print(\"valid\")\n",
    "            break\n",
    "        else:\n",
    "            valid == 1\n",
    "            print(\"please only input F or P\")\n",
    "            continue\n",
    "            \n",
    "jobstatus()"
   ]
  }
 ],
 "metadata": {
  "kernelspec": {
   "display_name": "Python 3",
   "language": "python",
   "name": "python3"
  },
  "language_info": {
   "codemirror_mode": {
    "name": "ipython",
    "version": 3
   },
   "file_extension": ".py",
   "mimetype": "text/x-python",
   "name": "python",
   "nbconvert_exporter": "python",
   "pygments_lexer": "ipython3",
   "version": "3.5.2"
  }
 },
 "nbformat": 4,
 "nbformat_minor": 2
}
